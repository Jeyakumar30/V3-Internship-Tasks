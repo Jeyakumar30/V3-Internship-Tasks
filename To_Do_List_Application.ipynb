{
  "nbformat": 4,
  "nbformat_minor": 0,
  "metadata": {
    "colab": {
      "provenance": []
    },
    "kernelspec": {
      "name": "python3",
      "display_name": "Python 3"
    },
    "language_info": {
      "name": "python"
    }
  },
  "cells": [
    {
      "cell_type": "code",
      "source": [
        "import datetime as dt\n",
        "import os"
      ],
      "metadata": {
        "id": "uPPJOlSL3H7L"
      },
      "execution_count": null,
      "outputs": []
    },
    {
      "cell_type": "code",
      "source": [
        "today = dt.date.today().strftime('%d/%m/%y')"
      ],
      "metadata": {
        "id": "NbkKz_bM4U1M"
      },
      "execution_count": null,
      "outputs": []
    },
    {
      "cell_type": "code",
      "source": [
        "class ToDo:\n",
        "\n",
        "  def addTask(self):\n",
        "    task_file = open(\"/content/drive/MyDrive/task.txt\", 'a+')\n",
        "\n",
        "    num = int(input(\"How many tasks that you want to add?: \"))\n",
        "    for i in range(num):\n",
        "      task = input(\"Enter the task: \")\n",
        "      date = input(\"Enter Due Date: \")\n",
        "      task_file.write(f'{today} \\t {task} \\t {date}')\n",
        "      task_file.write(\"\\n\")\n",
        "    else:\n",
        "      print(\"Added successfully!\")\n",
        "\n",
        "    task_file.close()\n",
        "    print(\"\\n\\n\")\n",
        "\n",
        "\n",
        "  def viewTask(self):\n",
        "    task_file = open(\"/content/drive/MyDrive/task.txt\", 'r')\n",
        "    tasks = task_file.readlines()\n",
        "    if len(tasks) == 0:\n",
        "      print(\"Nothing to Display. Add some tasks to view\")\n",
        "    else:\n",
        "      print(\"Date \\t \\t Task \\t \\t Due Date\\n\")\n",
        "      for task in tasks:\n",
        "        print(f'{task} \\n')\n",
        "      else:\n",
        "        print(\"\\n You have reached end of your task list.\\n\")\n",
        "\n",
        "      task_file.close()\n",
        "    print(\"\\n\\n\")\n",
        "\n",
        "  def deleteTask(self):\n",
        "    task_file = open(\"/content/drive/MyDrive/task.txt\", 'r')\n",
        "    tasks = task_file.readlines()\n",
        "    if len(tasks) == 0:\n",
        "      print(\"Nothing to Delete. It Seems Empty!\")\n",
        "    else:\n",
        "      task_file = open(\"/content/drive/MyDrive/task.txt\", 'a+')\n",
        "      task_file.truncate(0)\n",
        "      task_file.close()\n",
        "      print(\"Deleted Successfully!\")\n",
        "    task_file.close()\n",
        "    print(\"\\n\\n\")"
      ],
      "metadata": {
        "id": "mykKJhBI4Ymw"
      },
      "execution_count": null,
      "outputs": []
    },
    {
      "cell_type": "code",
      "source": [
        "print(\"To Do List Application\")\n",
        "\n",
        "\n",
        "task = ToDo()\n",
        "try:\n",
        "  while(True):\n",
        "    print(\"Enter 1 to Add Task\\nEnter 2 to View List of Tasks Assigned\\nEnter 3 to Clear task list\")\n",
        "    choice = int(input(\"Enter your choice: \"))\n",
        "    match choice:\n",
        "      case 1:\n",
        "        task.addTask()\n",
        "      case 2:\n",
        "        task.viewTask()\n",
        "      case 3:\n",
        "        task.deleteTask()\n",
        "      case _:\n",
        "        print(\"Enter a valid option!!\")\n",
        "    proceed = input(\"Do you want to continue (y/n): \")\n",
        "    if proceed != 'y':\n",
        "      break\n",
        "\n",
        "except KeyboardInterrupt:\n",
        "  print(\"Process Interrupted by User\")\n",
        "except ValueError:\n",
        "  print(\"Enter a vaild input.\")\n",
        "except Exception:\n",
        "   print(\"Something went wrong. Try again later.\")\n",
        "finally:\n",
        "  print(\"Thank you for using this application!!\")"
      ],
      "metadata": {
        "colab": {
          "base_uri": "https://localhost:8080/"
        },
        "id": "SAXy1GE_C_lD",
        "outputId": "6786df60-f0dd-4293-8fa7-a00047007341"
      },
      "execution_count": null,
      "outputs": [
        {
          "output_type": "stream",
          "name": "stdout",
          "text": [
            "To Do List Application\n",
            "Enter 1 to Add Task\n",
            "Enter 2 to View List of Tasks Assigned\n",
            "Enter 3 to Clear task list\n",
            "Enter your choice: 2\n",
            "Nothing to Display. Add some tasks to view\n",
            "\n",
            "\n",
            "\n",
            "Do you want to continue (y/n): y\n",
            "Enter 1 to Add Task\n",
            "Enter 2 to View List of Tasks Assigned\n",
            "Enter 3 to Clear task list\n",
            "Enter your choice: 1\n",
            "How many tasks that you want to add?: 2\n",
            "Enter the task: Mini Project\n",
            "Enter Due Date: 03/04/2024\n",
            "Enter the task: Course\n",
            "Enter Due Date: 30/03/2024\n",
            "Added successfully!\n",
            "\n",
            "\n",
            "\n",
            "Do you want to continue (y/n): y\n",
            "Enter 1 to Add Task\n",
            "Enter 2 to View List of Tasks Assigned\n",
            "Enter 3 to Clear task list\n",
            "Enter your choice: 2\n",
            "Date \t \t Task \t \t Due Date\n",
            "\n",
            "06/03/24 \t Mini Project \t 03/04/2024\n",
            " \n",
            "\n",
            "06/03/24 \t Course \t 30/03/2024\n",
            " \n",
            "\n",
            "\n",
            " You have reached end of your task list.\n",
            "\n",
            "\n",
            "\n",
            "\n",
            "Do you want to continue (y/n): y\n",
            "Enter 1 to Add Task\n",
            "Enter 2 to View List of Tasks Assigned\n",
            "Enter 3 to Clear task list\n",
            "Enter your choice: 3\n",
            "Deleted Successfully!\n",
            "\n",
            "\n",
            "\n",
            "Do you want to continue (y/n): y\n",
            "Enter 1 to Add Task\n",
            "Enter 2 to View List of Tasks Assigned\n",
            "Enter 3 to Clear task list\n",
            "Enter your choice: 2\n",
            "Nothing to Display. Add some tasks to view\n",
            "\n",
            "\n",
            "\n",
            "Do you want to continue (y/n): n\n",
            "You have reached end of your task.\n",
            "Thank you for using this application!!\n"
          ]
        }
      ]
    }
  ]
}